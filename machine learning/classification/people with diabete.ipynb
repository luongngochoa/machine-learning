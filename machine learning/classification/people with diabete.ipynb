{
 "cells": [
  {
   "cell_type": "markdown",
   "metadata": {
    "button": false,
    "id": "SzPE54CYM1kJ",
    "new_sheet": false,
    "run_control": {
     "read_only": false
    }
   },
   "source": [
    "<h1 align=center><font size = 10> Classification with Python</font></h1>"
   ]
  },
  {
   "cell_type": "markdown",
   "metadata": {
    "button": false,
    "id": "XPfbiVLfM1kK",
    "new_sheet": false,
    "run_control": {
     "read_only": false
    }
   },
   "source": [
    "In this notebook, we try to practice all the classification algorithms that we have learned in this course.\n",
    "\n",
    "We load a dataset using the Pandas library, and apply the following algorithms, and find the best one for this specific dataset by accuracy evaluation methods.\n",
    "\n",
    "Lets first load required libraries:"
   ]
  },
  {
   "cell_type": "code",
   "execution_count": 1,
   "metadata": {
    "button": false,
    "id": "vcBmcLcqM1kL",
    "new_sheet": false,
    "run_control": {
     "read_only": false
    }
   },
   "outputs": [],
   "source": [
    "import matplotlib.pyplot as plt\n",
    "from matplotlib.ticker import NullFormatter\n",
    "import pandas as pd\n",
    "import numpy as np\n",
    "import matplotlib.ticker as ticker\n",
    "from sklearn import preprocessing\n",
    "%matplotlib inline\n",
    "%matplotlib inline"
   ]
  },
  {
   "cell_type": "markdown",
   "metadata": {
    "id": "PKehb7okM1kN"
   },
   "source": [
    "# Mandatory part (85%  of the total score)"
   ]
  },
  {
   "cell_type": "markdown",
   "metadata": {
    "button": false,
    "id": "ZAL75IefM1kO",
    "new_sheet": false,
    "run_control": {
     "read_only": false
    }
   },
   "source": [
    "## About dataset"
   ]
  },
  {
   "cell_type": "markdown",
   "metadata": {
    "button": false,
    "id": "yrPdRO--M1kO",
    "new_sheet": false,
    "run_control": {
     "read_only": false
    }
   },
   "source": [
    "The Pima is a group of Native Americans living in Arizona. A genetic predisposition allowed this group to survive normally to a diet poor of carbohydrates for years. In recent years, a sudden shift from traditional agricultural crops to processed foods, together with a decline in physical activity, has made them develop the highest prevalence of type 2 diabetes and for this reason, they have been subject of many studies.\n",
    "\n",
    "The dataset includes data from 768 women with 8 characteristics, in particular:\n",
    "\n",
    "- Number of times pregnant\n",
    "- Plasma glucose concentration a 2 hours in an oral glucose tolerance test\n",
    "- Diastolic blood pressure (mm Hg)\n",
    "- Triceps skinfold thickness (mm)\n",
    "- 2-Hour serum insulin (mu U/ml)\n",
    "- Body mass index (weight in kg/(height in m)^2)\n",
    "- Diabetes pedigree function\n",
    "- Age (years)\n",
    "- The last column of the dataset indicates if the person has been diagnosed with diabetes (1) or not (0)"
   ]
  },
  {
   "cell_type": "markdown",
   "metadata": {
    "id": "dzJFrqwyM1kP"
   },
   "source": [
    "## The problem:"
   ]
  },
  {
   "cell_type": "markdown",
   "metadata": {
    "id": "WFl47FBcM1kQ"
   },
   "source": [
    "The type of dataset and problem is a classic supervised binary classification. Given a number of elements with certain characteristics (features), we want to build a machine learning model to identify people affected by type 2 diabetes.\n",
    "\n",
    "To solve the problem we will have to analyze the data, do any required transformation and nomarlization, apply a machine learning algorithm, train a model, check the performance of the trained model and iterate with other algorithms until we find the most performant for our type of dataset."
   ]
  },
  {
   "cell_type": "markdown",
   "metadata": {
    "button": false,
    "id": "Diy5tSZ7M1kQ",
    "new_sheet": false,
    "run_control": {
     "read_only": false
    }
   },
   "source": [
    "## Load Data From CSV File  "
   ]
  },
  {
   "cell_type": "markdown",
   "metadata": {
    "id": "qdIctwmZM1kR"
   },
   "source": [
    "### 1. Load the dataset from the 'pima-indians-diabetes.csv' file.\n",
    "\n",
    "Because the CSV doesn't contain any header, we add column names using the description from the original dataset website:\n",
    "\n",
    "dataset.columns = [\"NumTimesPrg\", \"PlGlcConc\", \"BloodP\", \"SkinThick\", \"TwoHourSerIns\", \"BMI\", \"DiPedFunc\", \"Age\", \"HasDiabetes\"]"
   ]
  },
  {
   "cell_type": "code",
   "execution_count": 2,
   "metadata": {
    "button": false,
    "id": "K-TmhZ8vM1kS",
    "new_sheet": false,
    "run_control": {
     "read_only": false
    }
   },
   "outputs": [],
   "source": [
    "dataset = pd.read_csv('pima-indians-diabetes.csv', header = None)\n",
    "dataset.columns = [\"NumTimesPrg\", \"PlGlcConc\", \"BloodP\", \"SkinThick\", \"TwoHourSerIns\", \"BMI\", \"DiPedFunc\", \"Age\", \"HasDiabetes\"]"
   ]
  },
  {
   "cell_type": "markdown",
   "metadata": {
    "button": false,
    "id": "AmBhwo0DM1kU",
    "new_sheet": false,
    "run_control": {
     "read_only": false
    }
   },
   "source": [
    "## Inspect the Dataset"
   ]
  },
  {
   "cell_type": "markdown",
   "metadata": {
    "id": "_HlgbaIQM1kU"
   },
   "source": [
    "### 2. Print out the shape of the dataset: we have 768 rows and 9 columns. Then, print out the head of the dataset to better understand the data format.\n",
    "\n",
    "The first 8 columns are features while the last one is the supervised label (1 = has diabetes, 0 = no diabetes)"
   ]
  },
  {
   "cell_type": "code",
   "execution_count": 3,
   "metadata": {
    "button": false,
    "id": "bpyxtYzcM1kV",
    "new_sheet": false,
    "outputId": "4d857f7e-842e-4fb7-ec21-354ac3756be7",
    "run_control": {
     "read_only": false
    }
   },
   "outputs": [
    {
     "name": "stdout",
     "output_type": "stream",
     "text": [
      "Shape (768, 9)\n"
     ]
    },
    {
     "data": {
      "text/html": [
       "<div>\n",
       "<style scoped>\n",
       "    .dataframe tbody tr th:only-of-type {\n",
       "        vertical-align: middle;\n",
       "    }\n",
       "\n",
       "    .dataframe tbody tr th {\n",
       "        vertical-align: top;\n",
       "    }\n",
       "\n",
       "    .dataframe thead th {\n",
       "        text-align: right;\n",
       "    }\n",
       "</style>\n",
       "<table border=\"1\" class=\"dataframe\">\n",
       "  <thead>\n",
       "    <tr style=\"text-align: right;\">\n",
       "      <th></th>\n",
       "      <th>NumTimesPrg</th>\n",
       "      <th>PlGlcConc</th>\n",
       "      <th>BloodP</th>\n",
       "      <th>SkinThick</th>\n",
       "      <th>TwoHourSerIns</th>\n",
       "      <th>BMI</th>\n",
       "      <th>DiPedFunc</th>\n",
       "      <th>Age</th>\n",
       "      <th>HasDiabetes</th>\n",
       "    </tr>\n",
       "  </thead>\n",
       "  <tbody>\n",
       "    <tr>\n",
       "      <th>0</th>\n",
       "      <td>6</td>\n",
       "      <td>148</td>\n",
       "      <td>72</td>\n",
       "      <td>35</td>\n",
       "      <td>0</td>\n",
       "      <td>33.6</td>\n",
       "      <td>0.627</td>\n",
       "      <td>50</td>\n",
       "      <td>1</td>\n",
       "    </tr>\n",
       "    <tr>\n",
       "      <th>1</th>\n",
       "      <td>1</td>\n",
       "      <td>85</td>\n",
       "      <td>66</td>\n",
       "      <td>29</td>\n",
       "      <td>0</td>\n",
       "      <td>26.6</td>\n",
       "      <td>0.351</td>\n",
       "      <td>31</td>\n",
       "      <td>0</td>\n",
       "    </tr>\n",
       "    <tr>\n",
       "      <th>2</th>\n",
       "      <td>8</td>\n",
       "      <td>183</td>\n",
       "      <td>64</td>\n",
       "      <td>0</td>\n",
       "      <td>0</td>\n",
       "      <td>23.3</td>\n",
       "      <td>0.672</td>\n",
       "      <td>32</td>\n",
       "      <td>1</td>\n",
       "    </tr>\n",
       "    <tr>\n",
       "      <th>3</th>\n",
       "      <td>1</td>\n",
       "      <td>89</td>\n",
       "      <td>66</td>\n",
       "      <td>23</td>\n",
       "      <td>94</td>\n",
       "      <td>28.1</td>\n",
       "      <td>0.167</td>\n",
       "      <td>21</td>\n",
       "      <td>0</td>\n",
       "    </tr>\n",
       "    <tr>\n",
       "      <th>4</th>\n",
       "      <td>0</td>\n",
       "      <td>137</td>\n",
       "      <td>40</td>\n",
       "      <td>35</td>\n",
       "      <td>168</td>\n",
       "      <td>43.1</td>\n",
       "      <td>2.288</td>\n",
       "      <td>33</td>\n",
       "      <td>1</td>\n",
       "    </tr>\n",
       "    <tr>\n",
       "      <th>5</th>\n",
       "      <td>5</td>\n",
       "      <td>116</td>\n",
       "      <td>74</td>\n",
       "      <td>0</td>\n",
       "      <td>0</td>\n",
       "      <td>25.6</td>\n",
       "      <td>0.201</td>\n",
       "      <td>30</td>\n",
       "      <td>0</td>\n",
       "    </tr>\n",
       "    <tr>\n",
       "      <th>6</th>\n",
       "      <td>3</td>\n",
       "      <td>78</td>\n",
       "      <td>50</td>\n",
       "      <td>32</td>\n",
       "      <td>88</td>\n",
       "      <td>31.0</td>\n",
       "      <td>0.248</td>\n",
       "      <td>26</td>\n",
       "      <td>1</td>\n",
       "    </tr>\n",
       "    <tr>\n",
       "      <th>7</th>\n",
       "      <td>10</td>\n",
       "      <td>115</td>\n",
       "      <td>0</td>\n",
       "      <td>0</td>\n",
       "      <td>0</td>\n",
       "      <td>35.3</td>\n",
       "      <td>0.134</td>\n",
       "      <td>29</td>\n",
       "      <td>0</td>\n",
       "    </tr>\n",
       "    <tr>\n",
       "      <th>8</th>\n",
       "      <td>2</td>\n",
       "      <td>197</td>\n",
       "      <td>70</td>\n",
       "      <td>45</td>\n",
       "      <td>543</td>\n",
       "      <td>30.5</td>\n",
       "      <td>0.158</td>\n",
       "      <td>53</td>\n",
       "      <td>1</td>\n",
       "    </tr>\n",
       "    <tr>\n",
       "      <th>9</th>\n",
       "      <td>8</td>\n",
       "      <td>125</td>\n",
       "      <td>96</td>\n",
       "      <td>0</td>\n",
       "      <td>0</td>\n",
       "      <td>0.0</td>\n",
       "      <td>0.232</td>\n",
       "      <td>54</td>\n",
       "      <td>1</td>\n",
       "    </tr>\n",
       "  </tbody>\n",
       "</table>\n",
       "</div>"
      ],
      "text/plain": [
       "   NumTimesPrg  PlGlcConc  BloodP  SkinThick  TwoHourSerIns   BMI  DiPedFunc  \\\n",
       "0            6        148      72         35              0  33.6      0.627   \n",
       "1            1         85      66         29              0  26.6      0.351   \n",
       "2            8        183      64          0              0  23.3      0.672   \n",
       "3            1         89      66         23             94  28.1      0.167   \n",
       "4            0        137      40         35            168  43.1      2.288   \n",
       "5            5        116      74          0              0  25.6      0.201   \n",
       "6            3         78      50         32             88  31.0      0.248   \n",
       "7           10        115       0          0              0  35.3      0.134   \n",
       "8            2        197      70         45            543  30.5      0.158   \n",
       "9            8        125      96          0              0   0.0      0.232   \n",
       "\n",
       "   Age  HasDiabetes  \n",
       "0   50            1  \n",
       "1   31            0  \n",
       "2   32            1  \n",
       "3   21            0  \n",
       "4   33            1  \n",
       "5   30            0  \n",
       "6   26            1  \n",
       "7   29            0  \n",
       "8   53            1  \n",
       "9   54            1  "
      ]
     },
     "execution_count": 3,
     "metadata": {},
     "output_type": "execute_result"
    }
   ],
   "source": [
    "print('Shape', dataset.shape)\n",
    "dataset.head(10)"
   ]
  },
  {
   "cell_type": "markdown",
   "metadata": {
    "button": false,
    "id": "a02T2r1XM1kY",
    "new_sheet": false,
    "run_control": {
     "read_only": false
    }
   },
   "source": [
    "# Data visualization and pre-processing\n",
    "\n"
   ]
  },
  {
   "cell_type": "markdown",
   "metadata": {
    "button": false,
    "id": "WyisS4NVM1kZ",
    "new_sheet": false,
    "run_control": {
     "read_only": false
    }
   },
   "source": [
    "## Data correlation matrix\n",
    "### 3. Let's calculate the correlation matrix for our dataset.\n",
    "\n",
    "The correlation matrix is an important tool to understand the correlation between the different characteristics. The values range from -1 to 1 and the closer a value is to 1 the better correlation there is between two characteristics. "
   ]
  },
  {
   "cell_type": "code",
   "execution_count": 4,
   "metadata": {
    "button": false,
    "id": "vymkxfN8M1kZ",
    "new_sheet": false,
    "outputId": "7e458e60-772c-4d79-d71d-a5692a1a0dc6",
    "run_control": {
     "read_only": false
    }
   },
   "outputs": [
    {
     "data": {
      "text/html": [
       "<div>\n",
       "<style scoped>\n",
       "    .dataframe tbody tr th:only-of-type {\n",
       "        vertical-align: middle;\n",
       "    }\n",
       "\n",
       "    .dataframe tbody tr th {\n",
       "        vertical-align: top;\n",
       "    }\n",
       "\n",
       "    .dataframe thead th {\n",
       "        text-align: right;\n",
       "    }\n",
       "</style>\n",
       "<table border=\"1\" class=\"dataframe\">\n",
       "  <thead>\n",
       "    <tr style=\"text-align: right;\">\n",
       "      <th></th>\n",
       "      <th>NumTimesPrg</th>\n",
       "      <th>PlGlcConc</th>\n",
       "      <th>BloodP</th>\n",
       "      <th>SkinThick</th>\n",
       "      <th>TwoHourSerIns</th>\n",
       "      <th>BMI</th>\n",
       "      <th>DiPedFunc</th>\n",
       "      <th>Age</th>\n",
       "      <th>HasDiabetes</th>\n",
       "    </tr>\n",
       "  </thead>\n",
       "  <tbody>\n",
       "    <tr>\n",
       "      <th>NumTimesPrg</th>\n",
       "      <td>1.000000</td>\n",
       "      <td>0.129459</td>\n",
       "      <td>0.141282</td>\n",
       "      <td>-0.081672</td>\n",
       "      <td>-0.073535</td>\n",
       "      <td>0.017683</td>\n",
       "      <td>-0.033523</td>\n",
       "      <td>0.544341</td>\n",
       "      <td>0.221898</td>\n",
       "    </tr>\n",
       "    <tr>\n",
       "      <th>PlGlcConc</th>\n",
       "      <td>0.129459</td>\n",
       "      <td>1.000000</td>\n",
       "      <td>0.152590</td>\n",
       "      <td>0.057328</td>\n",
       "      <td>0.331357</td>\n",
       "      <td>0.221071</td>\n",
       "      <td>0.137337</td>\n",
       "      <td>0.263514</td>\n",
       "      <td>0.466581</td>\n",
       "    </tr>\n",
       "    <tr>\n",
       "      <th>BloodP</th>\n",
       "      <td>0.141282</td>\n",
       "      <td>0.152590</td>\n",
       "      <td>1.000000</td>\n",
       "      <td>0.207371</td>\n",
       "      <td>0.088933</td>\n",
       "      <td>0.281805</td>\n",
       "      <td>0.041265</td>\n",
       "      <td>0.239528</td>\n",
       "      <td>0.065068</td>\n",
       "    </tr>\n",
       "    <tr>\n",
       "      <th>SkinThick</th>\n",
       "      <td>-0.081672</td>\n",
       "      <td>0.057328</td>\n",
       "      <td>0.207371</td>\n",
       "      <td>1.000000</td>\n",
       "      <td>0.436783</td>\n",
       "      <td>0.392573</td>\n",
       "      <td>0.183928</td>\n",
       "      <td>-0.113970</td>\n",
       "      <td>0.074752</td>\n",
       "    </tr>\n",
       "    <tr>\n",
       "      <th>TwoHourSerIns</th>\n",
       "      <td>-0.073535</td>\n",
       "      <td>0.331357</td>\n",
       "      <td>0.088933</td>\n",
       "      <td>0.436783</td>\n",
       "      <td>1.000000</td>\n",
       "      <td>0.197859</td>\n",
       "      <td>0.185071</td>\n",
       "      <td>-0.042163</td>\n",
       "      <td>0.130548</td>\n",
       "    </tr>\n",
       "    <tr>\n",
       "      <th>BMI</th>\n",
       "      <td>0.017683</td>\n",
       "      <td>0.221071</td>\n",
       "      <td>0.281805</td>\n",
       "      <td>0.392573</td>\n",
       "      <td>0.197859</td>\n",
       "      <td>1.000000</td>\n",
       "      <td>0.140647</td>\n",
       "      <td>0.036242</td>\n",
       "      <td>0.292695</td>\n",
       "    </tr>\n",
       "    <tr>\n",
       "      <th>DiPedFunc</th>\n",
       "      <td>-0.033523</td>\n",
       "      <td>0.137337</td>\n",
       "      <td>0.041265</td>\n",
       "      <td>0.183928</td>\n",
       "      <td>0.185071</td>\n",
       "      <td>0.140647</td>\n",
       "      <td>1.000000</td>\n",
       "      <td>0.033561</td>\n",
       "      <td>0.173844</td>\n",
       "    </tr>\n",
       "    <tr>\n",
       "      <th>Age</th>\n",
       "      <td>0.544341</td>\n",
       "      <td>0.263514</td>\n",
       "      <td>0.239528</td>\n",
       "      <td>-0.113970</td>\n",
       "      <td>-0.042163</td>\n",
       "      <td>0.036242</td>\n",
       "      <td>0.033561</td>\n",
       "      <td>1.000000</td>\n",
       "      <td>0.238356</td>\n",
       "    </tr>\n",
       "    <tr>\n",
       "      <th>HasDiabetes</th>\n",
       "      <td>0.221898</td>\n",
       "      <td>0.466581</td>\n",
       "      <td>0.065068</td>\n",
       "      <td>0.074752</td>\n",
       "      <td>0.130548</td>\n",
       "      <td>0.292695</td>\n",
       "      <td>0.173844</td>\n",
       "      <td>0.238356</td>\n",
       "      <td>1.000000</td>\n",
       "    </tr>\n",
       "  </tbody>\n",
       "</table>\n",
       "</div>"
      ],
      "text/plain": [
       "               NumTimesPrg  PlGlcConc    BloodP  SkinThick  TwoHourSerIns  \\\n",
       "NumTimesPrg       1.000000   0.129459  0.141282  -0.081672      -0.073535   \n",
       "PlGlcConc         0.129459   1.000000  0.152590   0.057328       0.331357   \n",
       "BloodP            0.141282   0.152590  1.000000   0.207371       0.088933   \n",
       "SkinThick        -0.081672   0.057328  0.207371   1.000000       0.436783   \n",
       "TwoHourSerIns    -0.073535   0.331357  0.088933   0.436783       1.000000   \n",
       "BMI               0.017683   0.221071  0.281805   0.392573       0.197859   \n",
       "DiPedFunc        -0.033523   0.137337  0.041265   0.183928       0.185071   \n",
       "Age               0.544341   0.263514  0.239528  -0.113970      -0.042163   \n",
       "HasDiabetes       0.221898   0.466581  0.065068   0.074752       0.130548   \n",
       "\n",
       "                    BMI  DiPedFunc       Age  HasDiabetes  \n",
       "NumTimesPrg    0.017683  -0.033523  0.544341     0.221898  \n",
       "PlGlcConc      0.221071   0.137337  0.263514     0.466581  \n",
       "BloodP         0.281805   0.041265  0.239528     0.065068  \n",
       "SkinThick      0.392573   0.183928 -0.113970     0.074752  \n",
       "TwoHourSerIns  0.197859   0.185071 -0.042163     0.130548  \n",
       "BMI            1.000000   0.140647  0.036242     0.292695  \n",
       "DiPedFunc      0.140647   1.000000  0.033561     0.173844  \n",
       "Age            0.036242   0.033561  1.000000     0.238356  \n",
       "HasDiabetes    0.292695   0.173844  0.238356     1.000000  "
      ]
     },
     "execution_count": 4,
     "metadata": {},
     "output_type": "execute_result"
    }
   ],
   "source": [
    "dataset.corr()"
   ]
  },
  {
   "cell_type": "markdown",
   "metadata": {
    "id": "Q0YpKuUBM1kb"
   },
   "source": [
    "### 4. Render the corr matrix using the heatmap in seaborn."
   ]
  },
  {
   "cell_type": "code",
   "execution_count": 5,
   "metadata": {
    "id": "ll0POqtIM1kc",
    "outputId": "99b49b55-941d-47dc-b62d-26521240524e"
   },
   "outputs": [
    {
     "data": {
      "image/png": "[encoded data removed]",
      "text/plain": [
       "<Figure size 432x288 with 2 Axes>"
      ]
     },
     "metadata": {
      "needs_background": "light"
     },
     "output_type": "display_data"
    }
   ],
   "source": [
    "%matplotlib inline\n",
    "import seaborn\n",
    "corr_matrix_dataset = seaborn.heatmap(dataset.corr(), cmap = \"YlGnBu\", annot = True)"
   ]
  },
  {
   "cell_type": "markdown",
   "metadata": {
    "id": "r7DgicVOM1ke"
   },
   "source": [
    "### 5. Print out the column which has the biggest corr number with 'HasDiabetes'."
   ]
  },
  {
   "cell_type": "code",
   "execution_count": 6,
   "metadata": {
    "id": "DoZkwj3oM1ke",
    "outputId": "a4b2510e-9502-42d7-8efb-c6916cd5dea2"
   },
   "outputs": [
    {
     "data": {
      "text/plain": [
       "0      148\n",
       "1       85\n",
       "2      183\n",
       "3       89\n",
       "4      137\n",
       "      ... \n",
       "763    101\n",
       "764    122\n",
       "765    121\n",
       "766    126\n",
       "767     93\n",
       "Name: PlGlcConc, Length: 768, dtype: int64"
      ]
     },
     "execution_count": 6,
     "metadata": {},
     "output_type": "execute_result"
    }
   ],
   "source": [
    "sort_corr = dataset.corr().sort_values(by = 'HasDiabetes', ascending = False)\n",
    "dataset[sort_corr.index[1]]"
   ]
  },
  {
   "cell_type": "markdown",
   "metadata": {
    "id": "gZ5Msu8UM1kg"
   },
   "source": [
    "## Visualize the Dataset\n",
    "Visualizing the data is an important step of the data analysis. With a graphical visualization of the data, we have a better understanding of the various features values distribution: for example, we can understand the average age of the people or the average BMI, etc...\n",
    "\n",
    "We could, of course, limit our inspection to the table visualization, but we could miss important things that may affect our model precision.\n",
    "### 6. Manipulate histogram to represent all data columns in the dataset."
   ]
  },
  {
   "cell_type": "code",
   "execution_count": 7,
   "metadata": {
    "id": "JC3CILgxM1kh",
    "outputId": "27498265-42ad-42be-a9bd-49094a9b6cb5"
   },
   "outputs": [
    {
     "data": {
      "text/plain": [
       "array([[<AxesSubplot:title={'center':'NumTimesPrg'}>,\n",
       "        <AxesSubplot:title={'center':'PlGlcConc'}>,\n",
       "        <AxesSubplot:title={'center':'BloodP'}>],\n",
       "       [<AxesSubplot:title={'center':'SkinThick'}>,\n",
       "        <AxesSubplot:title={'center':'TwoHourSerIns'}>,\n",
       "        <AxesSubplot:title={'center':'BMI'}>],\n",
       "       [<AxesSubplot:title={'center':'DiPedFunc'}>,\n",
       "        <AxesSubplot:title={'center':'Age'}>,\n",
       "        <AxesSubplot:title={'center':'HasDiabetes'}>]], dtype=object)"
      ]
     },
     "execution_count": 7,
     "metadata": {},
     "output_type": "execute_result"
    },
    {
     "data": {
      "image/png": "[encoded data removed]",
      "text/plain": [
       "<Figure size 1440x720 with 9 Axes>"
      ]
     },
     "metadata": {
      "needs_background": "light"
     },
     "output_type": "display_data"
    }
   ],
   "source": [
    "dataset.diff().hist(figsize = (20,10))"
   ]
  },
  {
   "cell_type": "markdown",
   "metadata": {
    "button": false,
    "id": "VYSkabikM1kj",
    "new_sheet": false,
    "run_control": {
     "read_only": false
    }
   },
   "source": [
    "An important thing I notice in the dataset (and that wasn't obvious at the beginning) is the fact that some people have null (zero) values for some of the features: it's not quite possible to have 0 for BMI or the blood pressure.\n",
    "\n",
    "How can we deal with similar values? We will see it later during the data transformation phase."
   ]
  },
  {
   "cell_type": "markdown",
   "metadata": {
    "button": false,
    "id": "si5Fgks4M1kj",
    "new_sheet": false,
    "run_control": {
     "read_only": false
    }
   },
   "source": [
    "## Data cleaning and transformation"
   ]
  },
  {
   "cell_type": "markdown",
   "metadata": {
    "button": false,
    "id": "ZDAqJwOaM1kk",
    "new_sheet": false,
    "run_control": {
     "read_only": false
    }
   },
   "source": [
    "We have noticed from the previous analysis that some patients have missing data for some of the features. Machine learning algorithms don't work very well when the data are missing so we have to find a solution to \"clean\" the data we have.\n",
    "\n",
    "The easiest option could be to eliminate all those patients with null/zero values, but in this way, we would eliminate a lot of important data.\n",
    "\n",
    "Another option is to calculate the median value for a specific column and substitute that value everywhere (in the same column) we have zero or null. Let's see how to apply this second method.\n",
    "\n",
    "### 7. Interpolate missing values on ['BMI', 'BloodP', 'PlGlcConc', 'SkinThick',  'TwoHourSerIns'] using median values or any other way which is effective.\n",
    "\n",
    "We haven't transformed all the columns, because of some values which can make sense to be zero (like \"Number of times pregnant\")."
   ]
  },
  {
   "cell_type": "code",
   "execution_count": 8,
   "metadata": {
    "button": false,
    "id": "ccZyY2RbM1kk",
    "new_sheet": false,
    "run_control": {
     "read_only": false
    }
   },
   "outputs": [],
   "source": [
    "dataset['BMI'].replace(0, dataset['BMI'].median(), inplace = True)\n",
    "dataset['BloodP'].replace(0, dataset['BloodP'].median(), inplace = True)\n",
    "dataset['PlGlcConc'].replace(0, dataset['PlGlcConc'].median(), inplace = True)\n",
    "dataset['SkinThick'].replace(0, dataset['SkinThick'].median(), inplace = True)\n",
    "dataset['TwoHourSerIns'].replace(0, dataset['TwoHourSerIns'].median(), inplace = True)"
   ]
  },
  {
   "cell_type": "code",
   "execution_count": 9,
   "metadata": {},
   "outputs": [
    {
     "data": {
      "text/html": [
       "<div>\n",
       "<style scoped>\n",
       "    .dataframe tbody tr th:only-of-type {\n",
       "        vertical-align: middle;\n",
       "    }\n",
       "\n",
       "    .dataframe tbody tr th {\n",
       "        vertical-align: top;\n",
       "    }\n",
       "\n",
       "    .dataframe thead th {\n",
       "        text-align: right;\n",
       "    }\n",
       "</style>\n",
       "<table border=\"1\" class=\"dataframe\">\n",
       "  <thead>\n",
       "    <tr style=\"text-align: right;\">\n",
       "      <th></th>\n",
       "      <th>NumTimesPrg</th>\n",
       "      <th>PlGlcConc</th>\n",
       "      <th>BloodP</th>\n",
       "      <th>SkinThick</th>\n",
       "      <th>TwoHourSerIns</th>\n",
       "      <th>BMI</th>\n",
       "      <th>DiPedFunc</th>\n",
       "      <th>Age</th>\n",
       "      <th>HasDiabetes</th>\n",
       "    </tr>\n",
       "  </thead>\n",
       "  <tbody>\n",
       "    <tr>\n",
       "      <th>0</th>\n",
       "      <td>6</td>\n",
       "      <td>148</td>\n",
       "      <td>72</td>\n",
       "      <td>35</td>\n",
       "      <td>30.5</td>\n",
       "      <td>33.6</td>\n",
       "      <td>0.627</td>\n",
       "      <td>50</td>\n",
       "      <td>1</td>\n",
       "    </tr>\n",
       "    <tr>\n",
       "      <th>1</th>\n",
       "      <td>1</td>\n",
       "      <td>85</td>\n",
       "      <td>66</td>\n",
       "      <td>29</td>\n",
       "      <td>30.5</td>\n",
       "      <td>26.6</td>\n",
       "      <td>0.351</td>\n",
       "      <td>31</td>\n",
       "      <td>0</td>\n",
       "    </tr>\n",
       "    <tr>\n",
       "      <th>2</th>\n",
       "      <td>8</td>\n",
       "      <td>183</td>\n",
       "      <td>64</td>\n",
       "      <td>23</td>\n",
       "      <td>30.5</td>\n",
       "      <td>23.3</td>\n",
       "      <td>0.672</td>\n",
       "      <td>32</td>\n",
       "      <td>1</td>\n",
       "    </tr>\n",
       "    <tr>\n",
       "      <th>3</th>\n",
       "      <td>1</td>\n",
       "      <td>89</td>\n",
       "      <td>66</td>\n",
       "      <td>23</td>\n",
       "      <td>94.0</td>\n",
       "      <td>28.1</td>\n",
       "      <td>0.167</td>\n",
       "      <td>21</td>\n",
       "      <td>0</td>\n",
       "    </tr>\n",
       "    <tr>\n",
       "      <th>4</th>\n",
       "      <td>0</td>\n",
       "      <td>137</td>\n",
       "      <td>40</td>\n",
       "      <td>35</td>\n",
       "      <td>168.0</td>\n",
       "      <td>43.1</td>\n",
       "      <td>2.288</td>\n",
       "      <td>33</td>\n",
       "      <td>1</td>\n",
       "    </tr>\n",
       "    <tr>\n",
       "      <th>5</th>\n",
       "      <td>5</td>\n",
       "      <td>116</td>\n",
       "      <td>74</td>\n",
       "      <td>23</td>\n",
       "      <td>30.5</td>\n",
       "      <td>25.6</td>\n",
       "      <td>0.201</td>\n",
       "      <td>30</td>\n",
       "      <td>0</td>\n",
       "    </tr>\n",
       "    <tr>\n",
       "      <th>6</th>\n",
       "      <td>3</td>\n",
       "      <td>78</td>\n",
       "      <td>50</td>\n",
       "      <td>32</td>\n",
       "      <td>88.0</td>\n",
       "      <td>31.0</td>\n",
       "      <td>0.248</td>\n",
       "      <td>26</td>\n",
       "      <td>1</td>\n",
       "    </tr>\n",
       "    <tr>\n",
       "      <th>7</th>\n",
       "      <td>10</td>\n",
       "      <td>115</td>\n",
       "      <td>72</td>\n",
       "      <td>23</td>\n",
       "      <td>30.5</td>\n",
       "      <td>35.3</td>\n",
       "      <td>0.134</td>\n",
       "      <td>29</td>\n",
       "      <td>0</td>\n",
       "    </tr>\n",
       "    <tr>\n",
       "      <th>8</th>\n",
       "      <td>2</td>\n",
       "      <td>197</td>\n",
       "      <td>70</td>\n",
       "      <td>45</td>\n",
       "      <td>543.0</td>\n",
       "      <td>30.5</td>\n",
       "      <td>0.158</td>\n",
       "      <td>53</td>\n",
       "      <td>1</td>\n",
       "    </tr>\n",
       "    <tr>\n",
       "      <th>9</th>\n",
       "      <td>8</td>\n",
       "      <td>125</td>\n",
       "      <td>96</td>\n",
       "      <td>23</td>\n",
       "      <td>30.5</td>\n",
       "      <td>32.0</td>\n",
       "      <td>0.232</td>\n",
       "      <td>54</td>\n",
       "      <td>1</td>\n",
       "    </tr>\n",
       "  </tbody>\n",
       "</table>\n",
       "</div>"
      ],
      "text/plain": [
       "   NumTimesPrg  PlGlcConc  BloodP  SkinThick  TwoHourSerIns   BMI  DiPedFunc  \\\n",
       "0            6        148      72         35           30.5  33.6      0.627   \n",
       "1            1         85      66         29           30.5  26.6      0.351   \n",
       "2            8        183      64         23           30.5  23.3      0.672   \n",
       "3            1         89      66         23           94.0  28.1      0.167   \n",
       "4            0        137      40         35          168.0  43.1      2.288   \n",
       "5            5        116      74         23           30.5  25.6      0.201   \n",
       "6            3         78      50         32           88.0  31.0      0.248   \n",
       "7           10        115      72         23           30.5  35.3      0.134   \n",
       "8            2        197      70         45          543.0  30.5      0.158   \n",
       "9            8        125      96         23           30.5  32.0      0.232   \n",
       "\n",
       "   Age  HasDiabetes  \n",
       "0   50            1  \n",
       "1   31            0  \n",
       "2   32            1  \n",
       "3   21            0  \n",
       "4   33            1  \n",
       "5   30            0  \n",
       "6   26            1  \n",
       "7   29            0  \n",
       "8   53            1  \n",
       "9   54            1  "
      ]
     },
     "execution_count": 9,
     "metadata": {},
     "output_type": "execute_result"
    }
   ],
   "source": [
    "dataset.head(10)"
   ]
  },
  {
   "cell_type": "markdown",
   "metadata": {
    "id": "-8h0P-vLM1kl"
   },
   "source": [
    "## Normalize Data "
   ]
  },
  {
   "cell_type": "markdown",
   "metadata": {
    "id": "GNxKYsijM1km"
   },
   "source": [
    "One of the most important data transformations we need to apply is the features scaling. Basically, most of the machine learning algorithms don't work very well if the features have a different set of values. In our case, for example, the Age ranges from 20 to 80 years old, while the number of times a patient has been pregnant ranges from 0 to 17. For this reason, we need to apply a proper transformation.\n",
    "\n",
    "### 8. Execute Data Standardization using data zero mean and unit variance (don't forget to remove ground truth column before scaling)."
   ]
  },
  {
   "cell_type": "code",
   "execution_count": 10,
   "metadata": {
    "id": "S22D1f6QM1km",
    "outputId": "c7e84367-72e5-444f-84b2-cbb3053753ee"
   },
   "outputs": [],
   "source": [
    "dataset['Age'] = (dataset['Age'] - dataset['Age'].mean()) / dataset['Age'].std()\n",
    "dataset['NumTimesPrg'] = (dataset['NumTimesPrg'] - dataset['NumTimesPrg'].mean()) / dataset['NumTimesPrg'].std()"
   ]
  },
  {
   "cell_type": "code",
   "execution_count": 11,
   "metadata": {},
   "outputs": [
    {
     "name": "stdout",
     "output_type": "stream",
     "text": [
      "1.0000000000000009\n",
      "2.198762005800603e-16\n",
      "1.000000000000002\n",
      "2.977941967093519e-17\n"
     ]
    }
   ],
   "source": [
    "print(dataset['Age'].std())\n",
    "print(dataset['Age'].mean())\n",
    "print(dataset['NumTimesPrg'].std())\n",
    "print(dataset['NumTimesPrg'].mean())"
   ]
  },
  {
   "cell_type": "code",
   "execution_count": 12,
   "metadata": {},
   "outputs": [
    {
     "data": {
      "text/html": [
       "<div>\n",
       "<style scoped>\n",
       "    .dataframe tbody tr th:only-of-type {\n",
       "        vertical-align: middle;\n",
       "    }\n",
       "\n",
       "    .dataframe tbody tr th {\n",
       "        vertical-align: top;\n",
       "    }\n",
       "\n",
       "    .dataframe thead th {\n",
       "        text-align: right;\n",
       "    }\n",
       "</style>\n",
       "<table border=\"1\" class=\"dataframe\">\n",
       "  <thead>\n",
       "    <tr style=\"text-align: right;\">\n",
       "      <th></th>\n",
       "      <th>NumTimesPrg</th>\n",
       "      <th>PlGlcConc</th>\n",
       "      <th>BloodP</th>\n",
       "      <th>SkinThick</th>\n",
       "      <th>TwoHourSerIns</th>\n",
       "      <th>BMI</th>\n",
       "      <th>DiPedFunc</th>\n",
       "      <th>Age</th>\n",
       "      <th>HasDiabetes</th>\n",
       "    </tr>\n",
       "  </thead>\n",
       "  <tbody>\n",
       "    <tr>\n",
       "      <th>0</th>\n",
       "      <td>0.639530</td>\n",
       "      <td>148</td>\n",
       "      <td>72</td>\n",
       "      <td>35</td>\n",
       "      <td>30.5</td>\n",
       "      <td>33.6</td>\n",
       "      <td>0.627</td>\n",
       "      <td>1.425067</td>\n",
       "      <td>1</td>\n",
       "    </tr>\n",
       "    <tr>\n",
       "      <th>1</th>\n",
       "      <td>-0.844335</td>\n",
       "      <td>85</td>\n",
       "      <td>66</td>\n",
       "      <td>29</td>\n",
       "      <td>30.5</td>\n",
       "      <td>26.6</td>\n",
       "      <td>0.351</td>\n",
       "      <td>-0.190548</td>\n",
       "      <td>0</td>\n",
       "    </tr>\n",
       "    <tr>\n",
       "      <th>2</th>\n",
       "      <td>1.233077</td>\n",
       "      <td>183</td>\n",
       "      <td>64</td>\n",
       "      <td>23</td>\n",
       "      <td>30.5</td>\n",
       "      <td>23.3</td>\n",
       "      <td>0.672</td>\n",
       "      <td>-0.105515</td>\n",
       "      <td>1</td>\n",
       "    </tr>\n",
       "    <tr>\n",
       "      <th>3</th>\n",
       "      <td>-0.844335</td>\n",
       "      <td>89</td>\n",
       "      <td>66</td>\n",
       "      <td>23</td>\n",
       "      <td>94.0</td>\n",
       "      <td>28.1</td>\n",
       "      <td>0.167</td>\n",
       "      <td>-1.040871</td>\n",
       "      <td>0</td>\n",
       "    </tr>\n",
       "    <tr>\n",
       "      <th>4</th>\n",
       "      <td>-1.141108</td>\n",
       "      <td>137</td>\n",
       "      <td>40</td>\n",
       "      <td>35</td>\n",
       "      <td>168.0</td>\n",
       "      <td>43.1</td>\n",
       "      <td>2.288</td>\n",
       "      <td>-0.020483</td>\n",
       "      <td>1</td>\n",
       "    </tr>\n",
       "    <tr>\n",
       "      <th>5</th>\n",
       "      <td>0.342757</td>\n",
       "      <td>116</td>\n",
       "      <td>74</td>\n",
       "      <td>23</td>\n",
       "      <td>30.5</td>\n",
       "      <td>25.6</td>\n",
       "      <td>0.201</td>\n",
       "      <td>-0.275580</td>\n",
       "      <td>0</td>\n",
       "    </tr>\n",
       "    <tr>\n",
       "      <th>6</th>\n",
       "      <td>-0.250789</td>\n",
       "      <td>78</td>\n",
       "      <td>50</td>\n",
       "      <td>32</td>\n",
       "      <td>88.0</td>\n",
       "      <td>31.0</td>\n",
       "      <td>0.248</td>\n",
       "      <td>-0.615709</td>\n",
       "      <td>1</td>\n",
       "    </tr>\n",
       "    <tr>\n",
       "      <th>7</th>\n",
       "      <td>1.826623</td>\n",
       "      <td>115</td>\n",
       "      <td>72</td>\n",
       "      <td>23</td>\n",
       "      <td>30.5</td>\n",
       "      <td>35.3</td>\n",
       "      <td>0.134</td>\n",
       "      <td>-0.360612</td>\n",
       "      <td>0</td>\n",
       "    </tr>\n",
       "    <tr>\n",
       "      <th>8</th>\n",
       "      <td>-0.547562</td>\n",
       "      <td>197</td>\n",
       "      <td>70</td>\n",
       "      <td>45</td>\n",
       "      <td>543.0</td>\n",
       "      <td>30.5</td>\n",
       "      <td>0.158</td>\n",
       "      <td>1.680164</td>\n",
       "      <td>1</td>\n",
       "    </tr>\n",
       "    <tr>\n",
       "      <th>9</th>\n",
       "      <td>1.233077</td>\n",
       "      <td>125</td>\n",
       "      <td>96</td>\n",
       "      <td>23</td>\n",
       "      <td>30.5</td>\n",
       "      <td>32.0</td>\n",
       "      <td>0.232</td>\n",
       "      <td>1.765196</td>\n",
       "      <td>1</td>\n",
       "    </tr>\n",
       "  </tbody>\n",
       "</table>\n",
       "</div>"
      ],
      "text/plain": [
       "   NumTimesPrg  PlGlcConc  BloodP  SkinThick  TwoHourSerIns   BMI  DiPedFunc  \\\n",
       "0     0.639530        148      72         35           30.5  33.6      0.627   \n",
       "1    -0.844335         85      66         29           30.5  26.6      0.351   \n",
       "2     1.233077        183      64         23           30.5  23.3      0.672   \n",
       "3    -0.844335         89      66         23           94.0  28.1      0.167   \n",
       "4    -1.141108        137      40         35          168.0  43.1      2.288   \n",
       "5     0.342757        116      74         23           30.5  25.6      0.201   \n",
       "6    -0.250789         78      50         32           88.0  31.0      0.248   \n",
       "7     1.826623        115      72         23           30.5  35.3      0.134   \n",
       "8    -0.547562        197      70         45          543.0  30.5      0.158   \n",
       "9     1.233077        125      96         23           30.5  32.0      0.232   \n",
       "\n",
       "        Age  HasDiabetes  \n",
       "0  1.425067            1  \n",
       "1 -0.190548            0  \n",
       "2 -0.105515            1  \n",
       "3 -1.040871            0  \n",
       "4 -0.020483            1  \n",
       "5 -0.275580            0  \n",
       "6 -0.615709            1  \n",
       "7 -0.360612            0  \n",
       "8  1.680164            1  \n",
       "9  1.765196            1  "
      ]
     },
     "execution_count": 12,
     "metadata": {},
     "output_type": "execute_result"
    }
   ],
   "source": [
    "dataset.head(10)"
   ]
  },
  {
   "cell_type": "markdown",
   "metadata": {
    "button": false,
    "id": "oOHQu_2rM1ko",
    "new_sheet": false,
    "run_control": {
     "read_only": false
    }
   },
   "source": [
    "# Splitting the Dataset"
   ]
  },
  {
   "cell_type": "markdown",
   "metadata": {
    "id": "luDui2xtM1ko"
   },
   "source": [
    "Now that we have transformed the data, we need to split the dataset into two parts: a training dataset and a test dataset. Splitting the dataset is a very important step for supervised machine learning models. Basically, we are going to use the first part to train the model (ignoring the column with the pre-assigned label), then we use the trained model to make predictions on new data (which is the test dataset, not part of the training set) and compare the predicted value with the pre-assigned label.\n",
    "\n",
    "### 9. Split the dataset into 80/20 using the stratified technique and random_state=7."
   ]
  },
  {
   "cell_type": "code",
   "execution_count": 13,
   "metadata": {
    "id": "Xfh4QK1oM1kp"
   },
   "outputs": [],
   "source": [
    "from sklearn.model_selection import train_test_split\n",
    "X = dataset.iloc[:,0:-1]\n",
    "y = dataset.iloc[:,-1:]\n",
    "\n",
    "X_trainset, X_testset, y_trainset, y_testset = train_test_split(X, y, test_size=0.2, random_state=7)"
   ]
  },
  {
   "cell_type": "markdown",
   "metadata": {
    "id": "Yk3Y6qVtM1kq"
   },
   "source": [
    "# Additional Question: \n",
    "### Why should we perform data normalization and data splitting before the training step?\n",
    "Type your answer in the cell bellow as the markdown format."
   ]
  },
  {
   "cell_type": "markdown",
   "metadata": {
    "id": "2yXSkeUjM1kr"
   },
   "source": [
    "### TO DO:\n"
   ]
  },
  {
   "cell_type": "markdown",
   "metadata": {
    "id": "6PaVBEAwM1ks"
   },
   "source": [
    "### 10. Print out the proportion of positive/total women who have diabetes on the full dataset, training dataset, and testing dataset."
   ]
  },
  {
   "cell_type": "code",
   "execution_count": 14,
   "metadata": {
    "id": "36nXnB7cM1ku",
    "outputId": "59f0f7e2-19e0-4c92-f517-c6fd2d87012d"
   },
   "outputs": [
    {
     "name": "stdout",
     "output_type": "stream",
     "text": [
      "0.3489583333333333\n",
      "0.34364820846905536\n",
      "0.37012987012987014\n"
     ]
    }
   ],
   "source": [
    "print(dataset['HasDiabetes'].value_counts()[1] / (dataset['HasDiabetes'].value_counts()[1] + dataset['HasDiabetes'].value_counts()[0]))\n",
    "print(y_trainset['HasDiabetes'].value_counts()[1] / (y_trainset['HasDiabetes'].value_counts()[1] + y_trainset['HasDiabetes'].value_counts()[0]))\n",
    "print(y_testset['HasDiabetes'].value_counts()[1] / (y_testset['HasDiabetes'].value_counts()[1] + y_testset['HasDiabetes'].value_counts()[0]))"
   ]
  },
  {
   "cell_type": "markdown",
   "metadata": {
    "button": false,
    "id": "KHXGaCazM1k0",
    "new_sheet": false,
    "run_control": {
     "read_only": false
    }
   },
   "source": [
    "# Classification "
   ]
  },
  {
   "cell_type": "markdown",
   "metadata": {
    "button": false,
    "id": "Q-NwUyDVM1k0",
    "new_sheet": false,
    "run_control": {
     "read_only": false
    }
   },
   "source": [
    "Now, it is your turn, use the training set to build an accurate model. Then use the test set to report the accuracy of the model.\n",
    "\n",
    "You should use the following algorithms:\n",
    "- K Nearest Neighbor(KNN)\n",
    "- Decision Tree\n",
    "- Support Vector Machine\n",
    "- Logistic Regression\n",
    "- Soft voting\n",
    "- Hard voting\n",
    "\n",
    "\n",
    "\n",
    "**__ Notes:__**\n",
    "\n",
    "- You must try to **FINE TUNE AT LEAST 3 PARAMETERS** on each algorithm, except on soft voting and hard voting.\n",
    "- You can go above and change the pre-processing, feature selection, feature extraction, and so on, to make a better model.\n",
    "- You should use either scikit-learn, Scipy or Numpy libraries for developing the classification algorithms.\n",
    "- You should include the code of the algorithm in the following cells."
   ]
  },
  {
   "cell_type": "code",
   "execution_count": 15,
   "metadata": {},
   "outputs": [],
   "source": [
    "X_trainset = np.asarray(X_trainset)\n",
    "X_testset = np.asarray(X_testset)\n",
    "y_trainset = y_trainset.values.ravel()\n",
    "y_testset = y_testset.values.ravel()"
   ]
  },
  {
   "cell_type": "code",
   "execution_count": 16,
   "metadata": {},
   "outputs": [
    {
     "name": "stdout",
     "output_type": "stream",
     "text": [
      "X Train Set:  (614, 8)\n",
      "y Train Set:  (614,)\n",
      "X Test Set:  (154, 8)\n",
      "y Test Set:  (154,)\n"
     ]
    }
   ],
   "source": [
    "print('X Train Set: ',X_trainset.shape)\n",
    "print('y Train Set: ',y_trainset.shape)\n",
    "print('X Test Set: ', X_testset.shape)\n",
    "print('y Test Set: ', y_testset.shape)"
   ]
  },
  {
   "cell_type": "markdown",
   "metadata": {
    "id": "c8HKeDu9M1k1"
   },
   "source": [
    "# Import Evaluation Metrices"
   ]
  },
  {
   "cell_type": "code",
   "execution_count": 17,
   "metadata": {
    "id": "sZrg6rrsM1k1"
   },
   "outputs": [],
   "source": [
    "from sklearn  import metrics"
   ]
  },
  {
   "cell_type": "code",
   "execution_count": 18,
   "metadata": {
    "id": "TBXdCSP-M1k3"
   },
   "outputs": [],
   "source": [
    "# a dictionary for keeping all scores of the classifiers\n",
    "f1_scores = {'train':{'KNN': 0, 'DT': 0, 'SVM': 0, 'LR': 0, 'EN_HARD': 0, 'EN_SOFT': 0},\n",
    "             'test':{'KNN': 0, 'DT': 0, 'SVM': 0, 'LR': 0, 'EN_HARD': 0, 'EN_SOFT': 0}}\n",
    "jaccard_scores = {'train':{'KNN': 0, 'DT': 0, 'SVM': 0, 'LR': 0, 'EN_HARD': 0, 'EN_SOFT': 0}, \n",
    "                  'test':{'KNN': 0, 'DT': 0, 'SVM': 0, 'LR': 0, 'EN_HARD': 0, 'EN_SOFT': 0}}\n"
   ]
  },
  {
   "cell_type": "markdown",
   "metadata": {
    "id": "ntwqYDm7M1k6"
   },
   "source": [
    "# K Nearest Neighbor(KNN)\n",
    "### 11. Finetune at least 3 parameters to get the KNN model with best accuracy. Then, print out the KNN model's parameters with the best accuracy(best estimator).\n",
    "Hint: Using GridSearchCV in sklearn.model_selection.\n",
    "\n",
    "**Warning:** You should not use the test data for finding the best parameters."
   ]
  },
  {
   "cell_type": "code",
   "execution_count": 19,
   "metadata": {
    "id": "WpD6yCUlM1k7"
   },
   "outputs": [],
   "source": [
    "from sklearn.neighbors import KNeighborsClassifier\n",
    "from sklearn.model_selection import GridSearchCV"
   ]
  },
  {
   "cell_type": "code",
   "execution_count": 20,
   "metadata": {
    "id": "Xw2vbHFKM1k9"
   },
   "outputs": [
    {
     "name": "stdout",
     "output_type": "stream",
     "text": [
      "{'algorithm': 'auto', 'n_neighbors': 12, 'weights': 'uniform'}\n"
     ]
    },
    {
     "data": {
      "text/plain": [
       "0.7410369185659069"
      ]
     },
     "execution_count": 20,
     "metadata": {},
     "output_type": "execute_result"
    }
   ],
   "source": [
    "#Create new a KNN model\n",
    "model_KNN = KNeighborsClassifier()\n",
    "\n",
    "#Create a dictionary of all values we want to test for parameters\n",
    "KNN_parameters = {'n_neighbors' : np.arange(1,31), \n",
    "                  'weights'     : ['uniform','distance'], \n",
    "                  'algorithm'   : ['auto','ball_tree','kd_tree','brute']}\n",
    "\n",
    "#Use gridsearch to test all values for parameters\n",
    "KNN_GSCV = GridSearchCV(model_KNN, KNN_parameters, cv = 5)\n",
    "\n",
    "#Train model\n",
    "KNN_GSCV.fit(X_trainset, y_trainset)\n",
    "\n",
    "#Check top performing parameters value\n",
    "print(KNN_GSCV.best_params_)\n",
    "\n",
    "#Check mean score for the top performing value of parameters\n",
    "KNN_GSCV.best_score_"
   ]
  },
  {
   "cell_type": "markdown",
   "metadata": {
    "id": "QLvhv6JrM1lA"
   },
   "source": [
    "# Additional Question: \n",
    "### Interpret and explain the parameters you have chosen to fine tune in KNN algorithm.\n",
    "Type your answer in the cell bellow as markdown format."
   ]
  },
  {
   "cell_type": "markdown",
   "metadata": {
    "id": "qaJt1GeEM1lA"
   },
   "source": [
    "### TO DO:\n"
   ]
  },
  {
   "cell_type": "markdown",
   "metadata": {
    "id": "GsPgXPEpM1lB"
   },
   "source": [
    "### 12. Run the prediction on KNN models on training data and test data, then calculate the f1 score and Jaccard similarity score and save it to f1_scores dict and jaccard_scores dict.  \n",
    "**Requirement**: F1 score on test data must be higher than **0.6**, Jaccard similarity score must be higher than **0.75**."
   ]
  },
  {
   "cell_type": "code",
   "execution_count": 21,
   "metadata": {
    "id": "GxclqWk1M1lB",
    "outputId": "2998eea4-278e-4570-9ba4-a219b812d0b4"
   },
   "outputs": [],
   "source": [
    "#Choose best parameters\n",
    "k_best = KNN_GSCV.best_params_['n_neighbors']\n",
    "weights_best = KNN_GSCV.best_params_['weights']\n",
    "algorithm_best = KNN_GSCV.best_params_['algorithm']\n",
    "#Train model\n",
    "model_KNN_best = KNeighborsClassifier(n_neighbors = k_best, weights = weights_best, algorithm = algorithm_best)\n",
    "model_KNN_best.fit(X_trainset, y_trainset)\n",
    "\n",
    "from sklearn.metrics import f1_score, accuracy_score\n",
    "#Calculate the accuracy of the model\n",
    "#Jaccard_Score\n",
    "jaccard_scores['train']['KNN']  = accuracy_score  (y_trainset, model_KNN_best.predict(X_trainset))\n",
    "jaccard_scores['test']['KNN']   = accuracy_score  (y_testset, model_KNN_best.predict(X_testset))\n",
    "\n",
    "#F1_scores\n",
    "f1_scores['train']['KNN'] = f1_score(y_trainset, model_KNN_best.predict(X_trainset), average = 'weighted')\n",
    "f1_scores['test']['KNN']  = f1_score(y_testset, model_KNN_best.predict(X_testset) , average = 'weighted')"
   ]
  },
  {
   "cell_type": "code",
   "execution_count": 22,
   "metadata": {},
   "outputs": [
    {
     "name": "stdout",
     "output_type": "stream",
     "text": [
      "Jaccard Scores: \n",
      "{'train': {'KNN': 0.7638436482084691, 'DT': 0, 'SVM': 0, 'LR': 0, 'EN_HARD': 0, 'EN_SOFT': 0}, 'test': {'KNN': 0.7467532467532467, 'DT': 0, 'SVM': 0, 'LR': 0, 'EN_HARD': 0, 'EN_SOFT': 0}}\n",
      "f1 scores: \n",
      "{'train': {'KNN': 0.7516827364842031, 'DT': 0, 'SVM': 0, 'LR': 0, 'EN_HARD': 0, 'EN_SOFT': 0}, 'test': {'KNN': 0.7327236144137553, 'DT': 0, 'SVM': 0, 'LR': 0, 'EN_HARD': 0, 'EN_SOFT': 0}}\n"
     ]
    }
   ],
   "source": [
    "print('Jaccard Scores: ' + '\\n' + str(jaccard_scores))\n",
    "print('f1 scores: ' + '\\n' + str(f1_scores))"
   ]
  },
  {
   "cell_type": "markdown",
   "metadata": {
    "id": "NXIl2GGLM1lE"
   },
   "source": [
    "# Decision Tree"
   ]
  },
  {
   "cell_type": "markdown",
   "metadata": {
    "id": "kW11u1k6M1lF"
   },
   "source": [
    "### 13, 14. Perform task 11 and 12 on the DT model.\n",
    "\n",
    "Hint: Using GridSearchCV in sklearn.model_selection.\n",
    "\n",
    "**Warning**: You should not use the test data for finding the best parameters.\n",
    "\n",
    "**Requirement**: F1 score on test data has to higher than **0.6**, the Jaccard similarity score must be higher than **0.73**."
   ]
  },
  {
   "cell_type": "code",
   "execution_count": 23,
   "metadata": {
    "id": "CnE8pvjvM1lG"
   },
   "outputs": [],
   "source": [
    "from sklearn import tree\n",
    "from sklearn.tree import DecisionTreeClassifier"
   ]
  },
  {
   "cell_type": "code",
   "execution_count": 24,
   "metadata": {
    "id": "RPdHH2HiM1lI"
   },
   "outputs": [
    {
     "name": "stdout",
     "output_type": "stream",
     "text": [
      "{'criterion': 'gini', 'max_depth': 5, 'max_features': 'log2'}\n",
      "0.7393842463014794\n"
     ]
    }
   ],
   "source": [
    "#Create new a Decision Tree model\n",
    "model_DT = DecisionTreeClassifier()\n",
    "\n",
    "#Create a dictionary of all values we want to test for parameters\n",
    "DT_parameters = {'criterion'     : ['gini','entropy'], \n",
    "                 'max_depth'     : [1,2,3,4,5] , \n",
    "                 'max_features'  : ['auto','sqrt','log2']}\n",
    "\n",
    "#Use gridsearch to test all values for parameters\n",
    "DT_GSCV = GridSearchCV(model_DT, DT_parameters, cv = 5)\n",
    "\n",
    "#Train model\n",
    "DT_GSCV.fit(X_trainset, y_trainset)\n",
    "\n",
    "#Best Parameters\n",
    "print(DT_GSCV.best_params_)\n",
    "\n",
    "#Best Accuracy\n",
    "print(DT_GSCV.best_score_)"
   ]
  },
  {
   "cell_type": "markdown",
   "metadata": {
    "id": "0ZjQch2RM1lL"
   },
   "source": [
    "# Additional Question: \n",
    "### Interpret and explain the parameters you have chosen to fine tune in DT algorithm.\n",
    "Type your answer in the cell bellow as the markdown format."
   ]
  },
  {
   "cell_type": "markdown",
   "metadata": {
    "id": "g4aBT64WM1lL"
   },
   "source": [
    "### TO DO:\n"
   ]
  },
  {
   "cell_type": "code",
   "execution_count": 25,
   "metadata": {
    "id": "5j2yBhnrM1lM",
    "outputId": "57d49035-a2ba-49f5-ed4d-407039ec79c7"
   },
   "outputs": [],
   "source": [
    "#Choose best parameters\n",
    "c_best = DT_GSCV.best_params_['criterion']\n",
    "maxf_best = DT_GSCV.best_params_['max_features']\n",
    "maxd_best = DT_GSCV.best_params_['max_depth']\n",
    "#Train model\n",
    "model_DT_best = DecisionTreeClassifier(criterion = c_best, max_features = maxf_best, max_depth = maxd_best)\n",
    "model_DT_best.fit(X_trainset, y_trainset)\n",
    "\n",
    "from sklearn.metrics import f1_score, accuracy_score\n",
    "#Calculate the accuracy of the model\n",
    "#Jaccard_Score\n",
    "jaccard_scores['train']['DT']  = accuracy_score(y_trainset, model_DT_best.predict(X_trainset))\n",
    "jaccard_scores['test']['DT']   = accuracy_score(y_testset, model_DT_best.predict(X_testset))\n",
    "\n",
    "#F1_scores\n",
    "f1_scores['train']['DT'] = f1_score(y_trainset, model_DT_best.predict(X_trainset), average = 'weighted')\n",
    "f1_scores['test']['DT']  = f1_score(y_testset, model_DT_best.predict(X_testset) , average = 'weighted')"
   ]
  },
  {
   "cell_type": "code",
   "execution_count": 26,
   "metadata": {},
   "outputs": [
    {
     "name": "stdout",
     "output_type": "stream",
     "text": [
      "Jaccard Scores: \n",
      "{'train': {'KNN': 0.7638436482084691, 'DT': 0.8143322475570033, 'SVM': 0, 'LR': 0, 'EN_HARD': 0, 'EN_SOFT': 0}, 'test': {'KNN': 0.7467532467532467, 'DT': 0.7467532467532467, 'SVM': 0, 'LR': 0, 'EN_HARD': 0, 'EN_SOFT': 0}}\n",
      "f1 scores: \n",
      "{'train': {'KNN': 0.7516827364842031, 'DT': 0.8149374029650827, 'SVM': 0, 'LR': 0, 'EN_HARD': 0, 'EN_SOFT': 0}, 'test': {'KNN': 0.7327236144137553, 'DT': 0.7480111511525124, 'SVM': 0, 'LR': 0, 'EN_HARD': 0, 'EN_SOFT': 0}}\n"
     ]
    }
   ],
   "source": [
    "print('Jaccard Scores: ' + '\\n' + str(jaccard_scores))\n",
    "print('f1 scores: ' + '\\n' + str(f1_scores))"
   ]
  },
  {
   "cell_type": "markdown",
   "metadata": {
    "id": "nd4a59C6M1lQ"
   },
   "source": [
    "# Support Vector Machine"
   ]
  },
  {
   "cell_type": "markdown",
   "metadata": {
    "id": "sn_wfdWpM1lR"
   },
   "source": [
    "### 15, 16. Perform task 11 and 12 on SVM models.\n",
    "\n",
    "Hint: Using GridSearchCV in sklearn.model_selection.\n",
    "\n",
    "**Warning**: You should not use the test data for finding the best parameters.\n",
    "\n",
    "**Requirement**: F1 score on test data has to higher than **0.62**, Jaccard similarity score must be higher than **0.75**."
   ]
  },
  {
   "cell_type": "code",
   "execution_count": 27,
   "metadata": {
    "id": "WUwo79EMM1lR"
   },
   "outputs": [],
   "source": [
    "from sklearn.svm import SVC"
   ]
  },
  {
   "cell_type": "code",
   "execution_count": 28,
   "metadata": {
    "id": "JMxZtQa8M1lT"
   },
   "outputs": [
    {
     "name": "stdout",
     "output_type": "stream",
     "text": [
      "{'gamma': 'scale', 'kernel': 'linear', 'probability': True}\n",
      "0.765480474476876\n"
     ]
    }
   ],
   "source": [
    "#Create new a SVM model\n",
    "model_SVM = SVC()\n",
    "\n",
    "#Create a dictionary of all values we want to test for parameters\n",
    "SVM_parameters = {'kernel'      : ['linear', 'poly', 'rbf', 'sigmoid'], \n",
    "                  'gamma'       : ['scale','auto'],\n",
    "                  'probability' : [True, False]}\n",
    "\n",
    "#Use gridsearch to test all values for parameters\n",
    "SVM_GSCV = GridSearchCV(model_SVM, SVM_parameters)\n",
    "\n",
    "#Train model\n",
    "X_trainset_SVM = preprocessing.StandardScaler().fit(X_trainset).transform(X_trainset)\n",
    "X_testset_SVM = preprocessing.StandardScaler().fit(X_testset).transform(X_testset)\n",
    "SVM_GSCV.fit(X_trainset_SVM, y_trainset)\n",
    "\n",
    "#Best Parameters\n",
    "print(SVM_GSCV.best_params_)\n",
    "\n",
    "#Best Accuracy\n",
    "print(SVM_GSCV.best_score_)"
   ]
  },
  {
   "cell_type": "markdown",
   "metadata": {
    "id": "03XgTdoPM1lW"
   },
   "source": [
    "# Additional Question: \n",
    "### Interpret and explain the parameters you have chosen to fine tune in SVM algorithm.\n",
    "Type your answer in the cell bellow as the markdown format."
   ]
  },
  {
   "cell_type": "markdown",
   "metadata": {
    "id": "wz0N8-CIM1lW"
   },
   "source": [
    "### TO DO:\n"
   ]
  },
  {
   "cell_type": "code",
   "execution_count": 29,
   "metadata": {
    "id": "z0eWOaUaM1lX",
    "outputId": "160ada70-d335-4496-8264-65913288a7b6"
   },
   "outputs": [],
   "source": [
    "#Choose best parameters\n",
    "gamma_best = SVM_GSCV.best_params_['gamma']\n",
    "kernel_best = SVM_GSCV.best_params_['kernel']\n",
    "p_best = SVM_GSCV.best_params_['probability']\n",
    "#Train model\n",
    "model_SVM_best = SVC(gamma = gamma_best, kernel = kernel_best,probability = p_best)\n",
    "model_SVM_best.fit(X_trainset_SVM, y_trainset)\n",
    "\n",
    "from sklearn.metrics import f1_score, accuracy_score\n",
    "#Calculate the accuracy of the model\n",
    "#Jaccard_Score\n",
    "jaccard_scores['train']['SVM']  = accuracy_score(y_trainset, model_SVM_best.predict(X_trainset_SVM))\n",
    "jaccard_scores['test']['SVM']   = accuracy_score(y_testset, model_SVM_best.predict(X_testset_SVM))\n",
    "\n",
    "#F1_scores\n",
    "f1_scores['train']['SVM'] = f1_score(y_trainset, model_SVM_best.predict(X_trainset_SVM), average = 'weighted')\n",
    "f1_scores['test']['SVM']  = f1_score(y_testset, model_SVM_best.predict(X_testset_SVM) , average = 'weighted')"
   ]
  },
  {
   "cell_type": "code",
   "execution_count": 30,
   "metadata": {},
   "outputs": [
    {
     "name": "stdout",
     "output_type": "stream",
     "text": [
      "Jaccard Scores: \n",
      "{'train': {'KNN': 0.7638436482084691, 'DT': 0.8143322475570033, 'SVM': 0.7752442996742671, 'LR': 0, 'EN_HARD': 0, 'EN_SOFT': 0}, 'test': {'KNN': 0.7467532467532467, 'DT': 0.7467532467532467, 'SVM': 0.7857142857142857, 'LR': 0, 'EN_HARD': 0, 'EN_SOFT': 0}}\n",
      "f1 scores: \n",
      "{'train': {'KNN': 0.7516827364842031, 'DT': 0.8149374029650827, 'SVM': 0.7662614346653436, 'LR': 0, 'EN_HARD': 0, 'EN_SOFT': 0}, 'test': {'KNN': 0.7327236144137553, 'DT': 0.7480111511525124, 'SVM': 0.7719858536062587, 'LR': 0, 'EN_HARD': 0, 'EN_SOFT': 0}}\n"
     ]
    }
   ],
   "source": [
    "print('Jaccard Scores: ' + '\\n' + str(jaccard_scores))\n",
    "print('f1 scores: ' + '\\n' + str(f1_scores))"
   ]
  },
  {
   "cell_type": "markdown",
   "metadata": {
    "id": "xRVAKHEkM1la"
   },
   "source": [
    "# Logistic Regression"
   ]
  },
  {
   "cell_type": "markdown",
   "metadata": {
    "id": "nTQkBQIXM1la"
   },
   "source": [
    "### 17, 18. Perform task 11 and 12 on Logistic Regression model.\n",
    "\n",
    "Hint: Using GridSearchCV in sklearn.model_selection.\n",
    "\n",
    "**Warning**: You should not use the test data for finding the best parameters.\n",
    "\n",
    "**Requirement**: F1 score on test data has to higher than **0.63**, Jaccard similarity score must be higher than **0.75**."
   ]
  },
  {
   "cell_type": "code",
   "execution_count": 31,
   "metadata": {
    "id": "cWFYayQLM1lb"
   },
   "outputs": [],
   "source": [
    "from sklearn.linear_model import LogisticRegression"
   ]
  },
  {
   "cell_type": "code",
   "execution_count": 32,
   "metadata": {
    "id": "7szXdAHTM1lc"
   },
   "outputs": [
    {
     "name": "stdout",
     "output_type": "stream",
     "text": [
      "{'C': 0.1, 'random_state': 1, 'solver': 'newton-cg'}\n"
     ]
    },
    {
     "data": {
      "text/plain": [
       "0.7719845395175262"
      ]
     },
     "execution_count": 32,
     "metadata": {},
     "output_type": "execute_result"
    }
   ],
   "source": [
    "#Create new a LR model\n",
    "model_LR = LogisticRegression()\n",
    "\n",
    "#Create a dictionary of all values we want to test for parameters\n",
    "LR_parameters = {'solver'        :    ['newton-cg','lbfgs','liblinear','saga'], \n",
    "                 'C'             :    np.logspace(-2, 10, 13),    \n",
    "                 'random_state'  :    [1,2,3,4,5,6,7,8]}\n",
    "\n",
    "#Use gridsearch to test all values for parameters\n",
    "LR_GSCV = GridSearchCV(model_LR, LR_parameters, cv = 5)\n",
    "\n",
    "#Train model\n",
    "X_trainset_LR = preprocessing.StandardScaler().fit(X_trainset).transform(X_trainset)\n",
    "X_testset_LR = preprocessing.StandardScaler().fit(X_testset).transform(X_testset)\n",
    "LR_GSCV.fit(X_trainset_LR, y_trainset)\n",
    "\n",
    "#Check top performing parameters value\n",
    "print(LR_GSCV.best_params_)\n",
    "\n",
    "#Check mean score for the top performing value of parameters\n",
    "LR_GSCV.best_score_"
   ]
  },
  {
   "cell_type": "markdown",
   "metadata": {
    "id": "pfPytCDYM1le"
   },
   "source": [
    "# Additional Question: \n",
    "### Interpret and explain the parameters you have chosen to fine tune in LR algorithm.\n",
    "Type your answer in the cell bellow as the markdown format."
   ]
  },
  {
   "cell_type": "markdown",
   "metadata": {
    "id": "RmPs5O5RM1lf"
   },
   "source": [
    "### TO DO:\n"
   ]
  },
  {
   "cell_type": "code",
   "execution_count": 33,
   "metadata": {
    "id": "5j2yBhnrM1lM",
    "outputId": "57d49035-a2ba-49f5-ed4d-407039ec79c7"
   },
   "outputs": [],
   "source": [
    "#Choose best parameters\n",
    "solver_best = LR_GSCV.best_params_['solver']\n",
    "C_best = LR_GSCV.best_params_['C']\n",
    "rs_best = LR_GSCV.best_params_['random_state']\n",
    "#Train model\n",
    "model_LR_best = LogisticRegression(solver = solver_best, C = C_best, random_state = rs_best)\n",
    "model_LR_best.fit(X_trainset_LR, y_trainset)\n",
    "\n",
    "from sklearn.metrics import f1_score, accuracy_score\n",
    "#Calculate the accuracy of the model\n",
    "#Jaccard_Score\n",
    "jaccard_scores['train']['LR']  = accuracy_score(y_trainset, model_LR_best.predict(X_trainset_LR))\n",
    "jaccard_scores['test']['LR'] = accuracy_score(y_testset, model_LR_best.predict(X_testset_LR))\n",
    "\n",
    "#F1_scores\n",
    "f1_scores['train']['LR'] = f1_score(y_trainset, model_LR_best.predict(X_trainset_LR), average = 'weighted')\n",
    "f1_scores['test']['LR'] = f1_score(y_testset, model_LR_best.predict(X_testset_LR) , average = 'weighted')"
   ]
  },
  {
   "cell_type": "code",
   "execution_count": 34,
   "metadata": {},
   "outputs": [
    {
     "name": "stdout",
     "output_type": "stream",
     "text": [
      "Jaccard Scores: \n",
      "{'train': {'KNN': 0.7638436482084691, 'DT': 0.8143322475570033, 'SVM': 0.7752442996742671, 'LR': 0.7736156351791531, 'EN_HARD': 0, 'EN_SOFT': 0}, 'test': {'KNN': 0.7467532467532467, 'DT': 0.7467532467532467, 'SVM': 0.7857142857142857, 'LR': 0.7662337662337663, 'EN_HARD': 0, 'EN_SOFT': 0}}\n",
      "f1 scores: \n",
      "{'train': {'KNN': 0.7516827364842031, 'DT': 0.8149374029650827, 'SVM': 0.7662614346653436, 'LR': 0.7638828563113794, 'EN_HARD': 0, 'EN_SOFT': 0}, 'test': {'KNN': 0.7327236144137553, 'DT': 0.7480111511525124, 'SVM': 0.7719858536062587, 'LR': 0.75605618870925, 'EN_HARD': 0, 'EN_SOFT': 0}}\n"
     ]
    }
   ],
   "source": [
    "print('Jaccard Scores: ' + '\\n' + str(jaccard_scores))\n",
    "print('f1 scores: ' + '\\n' + str(f1_scores))"
   ]
  },
  {
   "cell_type": "markdown",
   "metadata": {
    "id": "xhThcwLYM1li"
   },
   "source": [
    "# Advanced part (15%  of the total score)"
   ]
  },
  {
   "cell_type": "markdown",
   "metadata": {
    "id": "eRc5JoN7M1lo"
   },
   "source": [
    "# Ensemble model"
   ]
  },
  {
   "cell_type": "markdown",
   "metadata": {
    "id": "8-eteyNxM1lo"
   },
   "source": [
    "### 19. Perform soft voting on the 4 above models (using the same setting for the 4 models as in previous steps.) \n",
    "**Hint**: Using VotingClassifier in sklearn.ensemble."
   ]
  },
  {
   "cell_type": "code",
   "execution_count": 35,
   "metadata": {
    "id": "G7FfposgM1lp"
   },
   "outputs": [],
   "source": [
    "from sklearn.ensemble import VotingClassifier"
   ]
  },
  {
   "cell_type": "code",
   "execution_count": 36,
   "metadata": {
    "id": "J-EjCxe6M1ls"
   },
   "outputs": [
    {
     "data": {
      "text/plain": [
       "VotingClassifier(estimators=[('KNN', KNeighborsClassifier(n_neighbors=12)),\n",
       "                             ('DT',\n",
       "                              DecisionTreeClassifier(max_depth=5,\n",
       "                                                     max_features='log2')),\n",
       "                             ('SVM', SVC(kernel='linear', probability=True)),\n",
       "                             ('LR',\n",
       "                              LogisticRegression(C=0.1, random_state=1,\n",
       "                                                 solver='newton-cg'))],\n",
       "                 voting='soft')"
      ]
     },
     "execution_count": 36,
     "metadata": {},
     "output_type": "execute_result"
    }
   ],
   "source": [
    "#Create our voting classifier, inputting our models\n",
    "voting_classifier_soft = VotingClassifier(estimators = [('KNN',model_KNN_best),\n",
    "                                                        ('DT' ,model_DT_best),\n",
    "                                                        ('SVM',model_SVM_best),\n",
    "                                                        ('LR' ,model_LR_best)   ], voting = 'soft')\n",
    "\n",
    "voting_classifier_soft.fit(X_trainset, y_trainset)"
   ]
  },
  {
   "cell_type": "markdown",
   "metadata": {
    "id": "vZu5N_i3M1lu"
   },
   "source": [
    "### 20. Run the prediction on the ensembling model using soft voting on training data and test data, then calculate the f1 score and Jaccard similarity score and save it to f1_scores dict and jaccard_scores dict.¶\n",
    "\n",
    "**Requirement**: F1 score on test data must be higher than **0.66**, Jaccard similarity score must be higher than **0.78**."
   ]
  },
  {
   "cell_type": "code",
   "execution_count": 37,
   "metadata": {
    "id": "SeuL7a0rM1lu",
    "outputId": "d8bb60eb-eb8d-4bcc-d478-d96b8673e3bf"
   },
   "outputs": [],
   "source": [
    "from sklearn.metrics import f1_score, accuracy_score\n",
    "#Calculate the accuracy of the model\n",
    "#Jaccard_Score\n",
    "jaccard_scores['train']['EN_SOFT']  = accuracy_score(y_trainset, voting_classifier_soft.predict(X_trainset))\n",
    "jaccard_scores['test']['EN_SOFT'] = accuracy_score(y_testset, voting_classifier_soft.predict(X_testset))\n",
    "\n",
    "#F1_scores\n",
    "f1_scores['train']['EN_SOFT'] = f1_score(y_trainset, voting_classifier_soft.predict(X_trainset), average = 'weighted')\n",
    "f1_scores['test']['EN_SOFT'] = f1_score(y_testset, voting_classifier_soft.predict(X_testset) , average = 'weighted')"
   ]
  },
  {
   "cell_type": "code",
   "execution_count": 38,
   "metadata": {},
   "outputs": [
    {
     "name": "stdout",
     "output_type": "stream",
     "text": [
      "Jaccard Scores: \n",
      "{'train': {'KNN': 0.7638436482084691, 'DT': 0.8143322475570033, 'SVM': 0.7752442996742671, 'LR': 0.7736156351791531, 'EN_HARD': 0, 'EN_SOFT': 0.7947882736156352}, 'test': {'KNN': 0.7467532467532467, 'DT': 0.7467532467532467, 'SVM': 0.7857142857142857, 'LR': 0.7662337662337663, 'EN_HARD': 0, 'EN_SOFT': 0.7922077922077922}}\n",
      "f1 scores: \n",
      "{'train': {'KNN': 0.7516827364842031, 'DT': 0.8149374029650827, 'SVM': 0.7662614346653436, 'LR': 0.7638828563113794, 'EN_HARD': 0, 'EN_SOFT': 0.7869904961019091}, 'test': {'KNN': 0.7327236144137553, 'DT': 0.7480111511525124, 'SVM': 0.7719858536062587, 'LR': 0.75605618870925, 'EN_HARD': 0, 'EN_SOFT': 0.781548640039206}}\n"
     ]
    }
   ],
   "source": [
    "print('Jaccard Scores: ' + '\\n' + str(jaccard_scores))\n",
    "print('f1 scores: ' + '\\n' + str(f1_scores))"
   ]
  },
  {
   "cell_type": "markdown",
   "metadata": {
    "id": "d9vVirtTM1lw"
   },
   "source": [
    "### 21, 22. Perform task 19 and 20 using hard voting.\n",
    "Hint: Using GridSearchCV in sklearn.model_selection.\n",
    "\n",
    "**Warning**: You should not use the test data for finding the best parameters.\n",
    "\n",
    "**Requirement**: F1 score on test data must be higher than **0.57**, Jaccard similarity score must be higher than **0.73**."
   ]
  },
  {
   "cell_type": "code",
   "execution_count": 39,
   "metadata": {
    "id": "0n-qRxd5M1lx"
   },
   "outputs": [
    {
     "data": {
      "text/plain": [
       "VotingClassifier(estimators=[('KNN', KNeighborsClassifier(n_neighbors=12)),\n",
       "                             ('DT',\n",
       "                              DecisionTreeClassifier(max_depth=5,\n",
       "                                                     max_features='log2')),\n",
       "                             ('SVM', SVC(kernel='linear', probability=True)),\n",
       "                             ('LR',\n",
       "                              LogisticRegression(C=0.1, random_state=1,\n",
       "                                                 solver='newton-cg'))])"
      ]
     },
     "execution_count": 39,
     "metadata": {},
     "output_type": "execute_result"
    }
   ],
   "source": [
    "#create our voting classifier, inputting our models\n",
    "voting_classifier_hard = VotingClassifier(estimators = [('KNN',model_KNN_best),\n",
    "                                                        ('DT' ,model_DT_best),\n",
    "                                                        ('SVM',model_SVM_best),\n",
    "                                                        ('LR' ,model_LR_best)   ], voting = 'hard')\n",
    "\n",
    "voting_classifier_hard.fit(X_trainset, y_trainset)"
   ]
  },
  {
   "cell_type": "code",
   "execution_count": 40,
   "metadata": {
    "id": "zxvqWZBcM1lz",
    "outputId": "b3b398e9-7c5b-45f9-eb87-df6c769ca9dd"
   },
   "outputs": [],
   "source": [
    "from sklearn.metrics import f1_score, accuracy_score\n",
    "#Calculate the accuracy of the model\n",
    "#Jaccard_Score\n",
    "jaccard_scores['train']['EN_HARD']  = accuracy_score(y_trainset, voting_classifier_hard.predict(X_trainset))\n",
    "jaccard_scores['test']['EN_HARD'] = accuracy_score(y_testset, voting_classifier_hard.predict(X_testset))\n",
    "\n",
    "#F1_scores\n",
    "f1_scores['train']['EN_HARD'] = f1_score(y_trainset, voting_classifier_hard.predict(X_trainset), average = 'weighted')\n",
    "f1_scores['test']['EN_HARD'] = f1_score(y_testset, voting_classifier_hard.predict(X_testset) , average = 'weighted')"
   ]
  },
  {
   "cell_type": "code",
   "execution_count": 41,
   "metadata": {},
   "outputs": [
    {
     "name": "stdout",
     "output_type": "stream",
     "text": [
      "Jaccard Scores: \n",
      "{'train': {'KNN': 0.7638436482084691, 'DT': 0.8143322475570033, 'SVM': 0.7752442996742671, 'LR': 0.7736156351791531, 'EN_HARD': 0.7866449511400652, 'EN_SOFT': 0.7947882736156352}, 'test': {'KNN': 0.7467532467532467, 'DT': 0.7467532467532467, 'SVM': 0.7857142857142857, 'LR': 0.7662337662337663, 'EN_HARD': 0.7597402597402597, 'EN_SOFT': 0.7922077922077922}}\n",
      "f1 scores: \n",
      "{'train': {'KNN': 0.7516827364842031, 'DT': 0.8149374029650827, 'SVM': 0.7662614346653436, 'LR': 0.7638828563113794, 'EN_HARD': 0.7746986104890271, 'EN_SOFT': 0.7869904961019091}, 'test': {'KNN': 0.7327236144137553, 'DT': 0.7480111511525124, 'SVM': 0.7719858536062587, 'LR': 0.75605618870925, 'EN_HARD': 0.7464300957258703, 'EN_SOFT': 0.781548640039206}}\n"
     ]
    }
   ],
   "source": [
    "print('Jaccard Scores: ' + '\\n' + str(jaccard_scores))\n",
    "print('f1 scores: ' + '\\n' + str(f1_scores))"
   ]
  },
  {
   "cell_type": "markdown",
   "metadata": {
    "id": "RmteU8YeM1l3"
   },
   "source": [
    "# Report\n",
    "You should be able to report the accuracy of the built model using different evaluation metrics:"
   ]
  },
  {
   "cell_type": "markdown",
   "metadata": {
    "id": "c3q0IThKM1l3"
   },
   "source": [
    "| Algorithm          | Jaccard-training | F1-score-training |Jaccard-testing | F1-score-testing |\n",
    "|--------------------|------------------|-------------------|----------------|------------------|\n",
    "| KNN                | ?                | ?                 |  ?             |  ?               |\n",
    "| Decision Tree      | ?                | ?                 |  ?             |  ?               |\n",
    "| SVM                | ?                | ?                 |  ?             |  ?               |\n",
    "| Logistic Regression| ?                | ?                 |  ?             |  ?               |\n",
    "| Hard Voting        | ?                | ?                 |  ?             |  ?               |\n",
    "| Soft Voting        | ?                | ?                 |  ?             |  ?               |\n"
   ]
  },
  {
   "cell_type": "markdown",
   "metadata": {
    "id": "PpqjW-eOM1l3"
   },
   "source": [
    "### 23. Create a data frame that describes the result as exactly as above."
   ]
  },
  {
   "cell_type": "code",
   "execution_count": 42,
   "metadata": {
    "id": "pI3_EsgtM1l4",
    "outputId": "4fe78116-eccf-4762-c9e8-74175b6381fa"
   },
   "outputs": [
    {
     "data": {
      "text/html": [
       "<div>\n",
       "<style scoped>\n",
       "    .dataframe tbody tr th:only-of-type {\n",
       "        vertical-align: middle;\n",
       "    }\n",
       "\n",
       "    .dataframe tbody tr th {\n",
       "        vertical-align: top;\n",
       "    }\n",
       "\n",
       "    .dataframe thead th {\n",
       "        text-align: right;\n",
       "    }\n",
       "</style>\n",
       "<table border=\"1\" class=\"dataframe\">\n",
       "  <thead>\n",
       "    <tr style=\"text-align: right;\">\n",
       "      <th></th>\n",
       "      <th>Algorithm</th>\n",
       "      <th>Jaccard-training</th>\n",
       "      <th>F1-score-training</th>\n",
       "      <th>Jaccard-testing</th>\n",
       "      <th>F1-score-testing</th>\n",
       "    </tr>\n",
       "  </thead>\n",
       "  <tbody>\n",
       "    <tr>\n",
       "      <th>0</th>\n",
       "      <td>KNN</td>\n",
       "      <td>0.763844</td>\n",
       "      <td>0.751683</td>\n",
       "      <td>0.746753</td>\n",
       "      <td>0.732724</td>\n",
       "    </tr>\n",
       "    <tr>\n",
       "      <th>1</th>\n",
       "      <td>Decision Tree</td>\n",
       "      <td>0.814332</td>\n",
       "      <td>0.814937</td>\n",
       "      <td>0.746753</td>\n",
       "      <td>0.748011</td>\n",
       "    </tr>\n",
       "    <tr>\n",
       "      <th>2</th>\n",
       "      <td>SVM</td>\n",
       "      <td>0.775244</td>\n",
       "      <td>0.766261</td>\n",
       "      <td>0.785714</td>\n",
       "      <td>0.771986</td>\n",
       "    </tr>\n",
       "    <tr>\n",
       "      <th>3</th>\n",
       "      <td>Logistic Regression</td>\n",
       "      <td>0.773616</td>\n",
       "      <td>0.763883</td>\n",
       "      <td>0.766234</td>\n",
       "      <td>0.756056</td>\n",
       "    </tr>\n",
       "    <tr>\n",
       "      <th>4</th>\n",
       "      <td>Hard Voting</td>\n",
       "      <td>0.786645</td>\n",
       "      <td>0.774699</td>\n",
       "      <td>0.759740</td>\n",
       "      <td>0.746430</td>\n",
       "    </tr>\n",
       "    <tr>\n",
       "      <th>5</th>\n",
       "      <td>Soft Voting</td>\n",
       "      <td>0.794788</td>\n",
       "      <td>0.786990</td>\n",
       "      <td>0.792208</td>\n",
       "      <td>0.781549</td>\n",
       "    </tr>\n",
       "  </tbody>\n",
       "</table>\n",
       "</div>"
      ],
      "text/plain": [
       "             Algorithm  Jaccard-training  F1-score-training  Jaccard-testing  \\\n",
       "0                  KNN          0.763844           0.751683         0.746753   \n",
       "1        Decision Tree          0.814332           0.814937         0.746753   \n",
       "2                  SVM          0.775244           0.766261         0.785714   \n",
       "3  Logistic Regression          0.773616           0.763883         0.766234   \n",
       "4          Hard Voting          0.786645           0.774699         0.759740   \n",
       "5          Soft Voting          0.794788           0.786990         0.792208   \n",
       "\n",
       "   F1-score-testing  \n",
       "0          0.732724  \n",
       "1          0.748011  \n",
       "2          0.771986  \n",
       "3          0.756056  \n",
       "4          0.746430  \n",
       "5          0.781549  "
      ]
     },
     "execution_count": 42,
     "metadata": {},
     "output_type": "execute_result"
    }
   ],
   "source": [
    "df1 = pd.DataFrame.from_dict(jaccard_scores)\n",
    "df1 = df1.rename(columns = {'train': 'Jaccard-training', 'test': 'Jaccard-testing'})\n",
    "\n",
    "df2 = pd.DataFrame.from_dict(f1_scores)\n",
    "df2 = df2.rename(columns = {'train': 'F1-score-training', 'test': 'F1-score-testing'})\n",
    "\n",
    "df = pd.concat([df1,df2], axis = 1)\n",
    "df.index = ['KNN','Decision Tree', 'SVM', 'Logistic Regression','Hard Voting', 'Soft Voting']\n",
    "df.reset_index(inplace = True)\n",
    "df = df.rename(columns = {'index': 'Algorithm'})\n",
    "\n",
    "v = df[list(df.columns)[2]]\n",
    "df = df.drop(['Jaccard-testing'], axis = 1)\n",
    "df.insert(3,'Jaccard-testing',v)\n",
    "\n",
    "df"
   ]
  },
  {
   "cell_type": "markdown",
   "metadata": {
    "id": "TYifTRP7M1l5"
   },
   "source": [
    "# Additional Question: \n",
    "### Are ensemble methods always better than a single model? If not, explain why?\n",
    "Type your answer in the cell bellow as the markdown format.\n",
    "\t"
   ]
  },
  {
   "cell_type": "markdown",
   "metadata": {
    "id": "450BrJ44M1l6"
   },
   "source": [
    "### TO DO:\n"
   ]
  }
 ],
 "metadata": {
  "colab": {
   "collapsed_sections": [
    "2yXSkeUjM1kr",
    "qaJt1GeEM1lA",
    "450BrJ44M1l6"
   ],
   "name": "DSP303x_01_EN_2_Starter_Code.ipynb",
   "provenance": []
  },
  "kernelspec": {
   "display_name": "Python 3",
   "language": "python",
   "name": "python3"
  },
  "language_info": {
   "codemirror_mode": {
    "name": "ipython",
    "version": 3
   },
   "file_extension": ".py",
   "mimetype": "text/x-python",
   "name": "python",
   "nbconvert_exporter": "python",
   "pygments_lexer": "ipython3",
   "version": "3.8.5"
  }
 },
 "nbformat": 4,
 "nbformat_minor": 4
}
